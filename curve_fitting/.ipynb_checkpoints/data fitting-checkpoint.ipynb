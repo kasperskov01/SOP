{
 "cells": [
  {
   "cell_type": "markdown",
   "metadata": {},
   "source": [
    "# Andengrads data fitting"
   ]
  },
  {
   "cell_type": "code",
   "execution_count": 1,
   "metadata": {},
   "outputs": [
    {
     "name": "stdout",
     "output_type": "stream",
     "text": [
      "{a: -1.17142857142857, b: 5.68857142857143, c: 1.18000000000000}\n"
     ]
    }
   ],
   "source": [
    "from IPython.display import display, Latex\n",
    "from sympy import *\n",
    "from sympy.plotting import plot\n",
    "init_printing(use_latex='mathjax')\n",
    "\n",
    "import matplotlib.pyplot as plt\n",
    "plt.style.use('seaborn-whitegrid')\n",
    "import numpy as np\n",
    "\n",
    "# Symbols used\n",
    "x, a, b, c, n = symbols('x a b c n')\n",
    "\n",
    "# Data points\n",
    "x_points = [0,1,2,3,4,5]\n",
    "y_points = [0.5, 4.5, 9, 7.5, 5, 0.4]\n",
    "\n",
    "# Model to use\n",
    "model = a*x**2 + b*x + c\n",
    "f = lambdify((x, a, b, c), model)\n",
    "\n",
    "# Summed variables used in equations for a, b and c\n",
    "S_x = 0\n",
    "S_xx = 0\n",
    "S_xxx = 0\n",
    "S_xxxx = 0\n",
    "S_y = 0\n",
    "S_xxy = 0\n",
    "S_xy = 0\n",
    "n = len(x_points)\n",
    "\n",
    "for i in range(len(x_points)):\n",
    "    S_x += x_points[i]**1\n",
    "    S_xx += x_points[i]**2\n",
    "    S_xxx += x_points[i]**3\n",
    "    S_xxxx += x_points[i]**4\n",
    "    S_y += y_points[i]\n",
    "    S_xy += x_points[i]*y_points[i]\n",
    "    S_xxy += x_points[i]**2*y_points[i]\n",
    "    \n",
    "\n",
    "# Defining equations\n",
    "eq1 = a*S_xxxx + b*S_xxx + c*S_xx - S_xxy\n",
    "eq2 = a*S_xxx + b*S_xx + c * S_x - S_xy\n",
    "eq3 = a*S_xx + b*S_x + n - S_y\n",
    "\n",
    "# Solving equations\n",
    "solved = solve((eq1, eq2, eq3), (a, b, c))\n",
    "print(solved)\n",
    "\n",
    "# Assigning values to symbols\n",
    "a = solved[a]\n",
    "b = solved[b]\n",
    "c = solved[c]\n",
    "\n",
    "# Generating points for model plot\n",
    "x_list = np.linspace(-10, 10, 100)\n",
    "y_list = f(x_list, a, b, c)\n",
    "\n",
    "# Setup figure\n",
    "fig=plt.figure()\n",
    "ax=fig.add_axes([0,0,1,1])\n",
    "fig = ax.set_xlim((-1,6))\n",
    "fig = ax.set_ylim((-5,10))\n",
    "# Display figure\n",
    "fig = ax.scatter(x_points, y_points, color='black');\n",
    "fig = ax.plot(x_list, y_list)\n",
    "# plt.close() # Don't display"
   ]
  },
  {
   "cell_type": "markdown",
   "metadata": {},
   "source": [
    "# Summering"
   ]
  },
  {
   "cell_type": "code",
   "execution_count": 2,
   "metadata": {},
   "outputs": [
    {
     "data": {
      "text/plain": [
       "10"
      ]
     },
     "execution_count": 2,
     "metadata": {},
     "output_type": "execute_result"
    }
   ],
   "source": [
    "from sympy import Sum, symbols, Indexed, lambdify\n",
    "import numpy as np\n",
    "\n",
    "x, i = symbols(\"x i\")\n",
    "s = Sum(Indexed('x',i),(i,0,3))\n",
    "f = lambdify(x, s)\n",
    "b = np.array([1, 2, 3, 4])\n",
    "f(b)"
   ]
  },
  {
   "cell_type": "code",
   "execution_count": 3,
   "metadata": {},
   "outputs": [
    {
     "data": {
      "text/latex": [
       "$\\displaystyle b + \\sum_{k=0}^{3} a {x}_{k} - 5$"
      ],
      "text/plain": [
       "      3             \n",
       "     ___            \n",
       "     ╲              \n",
       "      ╲   a⋅x[k]    \n",
       "b +   ╱          - 5\n",
       "     ╱              \n",
       "     ‾‾‾            \n",
       "    k = 0           "
      ]
     },
     "metadata": {},
     "output_type": "display_data"
    },
    {
     "data": {
      "text/latex": [
       "$\\displaystyle - 10 a + 2 b$"
      ],
      "text/plain": [
       "-10⋅a + 2⋅b"
      ]
     },
     "metadata": {},
     "output_type": "display_data"
    },
    {
     "data": {
      "text/latex": [
       "$\\displaystyle 10 a + b - 5$"
      ],
      "text/plain": [
       "10⋅a + b - 5"
      ]
     },
     "metadata": {},
     "output_type": "display_data"
    },
    {
     "data": {
      "text/latex": [
       "$\\displaystyle - 10 a + 2 b$"
      ],
      "text/plain": [
       "-10⋅a + 2⋅b"
      ]
     },
     "metadata": {},
     "output_type": "display_data"
    },
    {
     "data": {
      "text/latex": [
       "$\\displaystyle \\left\\{ a : \\frac{1}{3}, \\  b : \\frac{5}{3}\\right\\}$"
      ],
      "text/plain": [
       "{a: 1/3, b: 5/3}"
      ]
     },
     "metadata": {},
     "output_type": "display_data"
    },
    {
     "data": {
      "image/png": "[encoded data removed]",
      "text/plain": [
       "<Figure size 432x288 with 1 Axes>"
      ]
     },
     "metadata": {},
     "output_type": "display_data"
    }
   ],
   "source": [
    "# Clear defined variables\n",
    "%reset -f\n",
    "from IPython.display import display, Latex\n",
    "from sympy import *\n",
    "from sympy.plotting import plot\n",
    "init_printing(use_latex='mathjax')\n",
    "\n",
    "import matplotlib.pyplot as plt\n",
    "plt.style.use('seaborn-whitegrid')\n",
    "import numpy as np\n",
    "\n",
    "# Symbols used\n",
    "x, y, a, b, c, n, k = symbols('x y a b c n k')\n",
    "\n",
    "# Data points\n",
    "x_points = [0,1,2,3,4,5]\n",
    "y_points = [0.5, 4.5, 8, 7.5, 5, 0.4]\n",
    "\n",
    "# Model to use\n",
    "model = Sum(a*Indexed(x, k), (k,0,3))- 5 + b\n",
    "model2 = 2*b - 10*a\n",
    "f = lambdify((x, a, b), model)\n",
    "g = lambdify((x, a, b), model2)\n",
    "\n",
    "display(model)\n",
    "display(model2)\n",
    "\n",
    "y_list_sum = f([1,2,3,4], a, b)\n",
    "y_list_sum2 = g([1,2,3,4], a, b)\n",
    "display(y_list_sum)\n",
    "display(y_list_sum2)\n",
    "display(solve((y_list_sum, y_list_sum2), (a,b)))\n",
    "\n",
    "\"\"\"\n",
    "E = Sum((model-Indexed(y,k))**2,(k,0,len(x_points)))\n",
    "display(E)\n",
    "\n",
    "f_E = lambdify((x, a, b, c), E)\n",
    "y_listE = f_E(x_points, a, b, c)\n",
    "\n",
    "eqA = Derivative(E, a)\n",
    "display(eqA)\n",
    "f_A = lambdify((x, a, b, c), eqA)\n",
    "\n",
    "eqB = Derivative(E, b)\n",
    "display(eqB)\n",
    "f_B = lambdify((x, a, b, c), eqB)\n",
    "\n",
    "eqC = Derivative(E, c)\n",
    "display(eqC)\n",
    "f_C = lambdify((x, a, b, c), eqC)\n",
    "\n",
    "\n",
    "x = x_points\n",
    "display(x[1])\n",
    "y = y_points\n",
    "\n",
    "# solved = nsolve((f_A, f_B, f_C), (a, b, c), (1,1,1))\n",
    "# print(solved)\n",
    "\n",
    "\n",
    "# Generating points for model plot\n",
    "x_list = np.linspace(-10, 10, 100)\n",
    "y_list = f(x_list, a, b, c)\n",
    "\n",
    "\"\"\"\n",
    "\n",
    "# Setup figure\n",
    "fig=plt.figure()\n",
    "ax=fig.add_axes([0,0,1,1])\n",
    "fig = ax.set_xlim((-1,6))\n",
    "fig = ax.set_ylim((-5,10))\n",
    "# Display figure\n",
    "fig = ax.scatter(x_points, y_points, color='black');\n",
    "#fig = ax.plot(x_list, y_list)\n",
    "# plt.close() # Don't display"
   ]
  },
  {
   "cell_type": "code",
   "execution_count": 4,
   "metadata": {
    "scrolled": true
   },
   "outputs": [
    {
     "data": {
      "text/latex": [
       "$\\displaystyle a {x}_{k}^{4} + b {x}_{k}^{3} + c {x}_{k}^{2} + d {x}_{k} + e$"
      ],
      "text/plain": [
       "      4         3         2             \n",
       "a⋅x[k]  + b⋅x[k]  + c⋅x[k]  + d⋅x[k] + e"
      ]
     },
     "metadata": {},
     "output_type": "display_data"
    },
    {
     "data": {
      "text/latex": [
       "$\\displaystyle \\sum_{k=0}^{9} \\left(a {x}_{k}^{4} + b {x}_{k}^{3} + c {x}_{k}^{2} + d {x}_{k} + e - {y}_{k}\\right)^{2}$"
      ],
      "text/plain": [
       "  9                                                     \n",
       " ____                                                   \n",
       " ╲                                                      \n",
       "  ╲                                                    2\n",
       "   ╲  ⎛      4         3         2                    ⎞ \n",
       "   ╱  ⎝a⋅x[k]  + b⋅x[k]  + c⋅x[k]  + d⋅x[k] + e - y[k]⎠ \n",
       "  ╱                                                     \n",
       " ╱                                                      \n",
       " ‾‾‾‾                                                   \n",
       "k = 0                                                   "
      ]
     },
     "metadata": {},
     "output_type": "display_data"
    },
    {
     "data": {
      "text/latex": [
       "$\\displaystyle \\sum_{k=0}^{9} 2 \\left(a {x}_{k}^{4} + b {x}_{k}^{3} + c {x}_{k}^{2} + d {x}_{k} + e - {y}_{k}\\right) {x}_{k}^{4}$"
      ],
      "text/plain": [
       "  9                                                            \n",
       " ___                                                           \n",
       " ╲                                                             \n",
       "  ╲     ⎛      4         3         2                    ⎞     4\n",
       "  ╱   2⋅⎝a⋅x[k]  + b⋅x[k]  + c⋅x[k]  + d⋅x[k] + e - y[k]⎠⋅x[k] \n",
       " ╱                                                             \n",
       " ‾‾‾                                                           \n",
       "k = 0                                                          "
      ]
     },
     "metadata": {},
     "output_type": "display_data"
    },
    {
     "data": {
      "text/latex": [
       "$\\displaystyle 135462666 a + 16160850 b + 1956810 c + 241650 d + 30666 e - 25914.8$"
      ],
      "text/plain": [
       "135462666⋅a + 16160850⋅b + 1956810⋅c + 241650⋅d + 30666⋅e - 25914.8"
      ]
     },
     "metadata": {},
     "output_type": "display_data"
    },
    {
     "data": {
      "text/latex": [
       "$\\displaystyle \\sum_{k=0}^{9} 2 \\left(a {x}_{k}^{4} + b {x}_{k}^{3} + c {x}_{k}^{2} + d {x}_{k} + e - {y}_{k}\\right) {x}_{k}^{3}$"
      ],
      "text/plain": [
       "  9                                                            \n",
       " ___                                                           \n",
       " ╲                                                             \n",
       "  ╲     ⎛      4         3         2                    ⎞     3\n",
       "  ╱   2⋅⎝a⋅x[k]  + b⋅x[k]  + c⋅x[k]  + d⋅x[k] + e - y[k]⎠⋅x[k] \n",
       " ╱                                                             \n",
       " ‾‾‾                                                           \n",
       "k = 0                                                          "
      ]
     },
     "metadata": {},
     "output_type": "display_data"
    },
    {
     "data": {
      "text/latex": [
       "$\\displaystyle 16160850 a + 1956810 b + 241650 c + 30666 d + 4050 e - 2196.0$"
      ],
      "text/plain": [
       "16160850⋅a + 1956810⋅b + 241650⋅c + 30666⋅d + 4050⋅e - 2196.0"
      ]
     },
     "metadata": {},
     "output_type": "display_data"
    },
    {
     "data": {
      "text/latex": [
       "$\\displaystyle \\sum_{k=0}^{9} 2 \\left(a {x}_{k}^{4} + b {x}_{k}^{3} + c {x}_{k}^{2} + d {x}_{k} + e - {y}_{k}\\right) {x}_{k}^{2}$"
      ],
      "text/plain": [
       "  9                                                            \n",
       " ___                                                           \n",
       " ╲                                                             \n",
       "  ╲     ⎛      4         3         2                    ⎞     2\n",
       "  ╱   2⋅⎝a⋅x[k]  + b⋅x[k]  + c⋅x[k]  + d⋅x[k] + e - y[k]⎠⋅x[k] \n",
       " ╱                                                             \n",
       " ‾‾‾                                                           \n",
       "k = 0                                                          "
      ]
     },
     "metadata": {},
     "output_type": "display_data"
    },
    {
     "data": {
      "text/latex": [
       "$\\displaystyle 1956810 a + 241650 b + 30666 c + 4050 d + 570 e - 93.2$"
      ],
      "text/plain": [
       "1956810⋅a + 241650⋅b + 30666⋅c + 4050⋅d + 570⋅e - 93.2"
      ]
     },
     "metadata": {},
     "output_type": "display_data"
    },
    {
     "data": {
      "text/latex": [
       "$\\displaystyle \\sum_{k=0}^{9} 2 \\left(a {x}_{k}^{4} + b {x}_{k}^{3} + c {x}_{k}^{2} + d {x}_{k} + e - {y}_{k}\\right) {x}_{k}$"
      ],
      "text/plain": [
       "  9                                                           \n",
       " ___                                                          \n",
       " ╲                                                            \n",
       "  ╲     ⎛      4         3         2                    ⎞     \n",
       "  ╱   2⋅⎝a⋅x[k]  + b⋅x[k]  + c⋅x[k]  + d⋅x[k] + e - y[k]⎠⋅x[k]\n",
       " ╱                                                            \n",
       " ‾‾‾                                                          \n",
       "k = 0                                                         "
      ]
     },
     "metadata": {},
     "output_type": "display_data"
    },
    {
     "data": {
      "text/latex": [
       "$\\displaystyle 241650 a + 30666 b + 4050 c + 570 d + 90 e + 18.0$"
      ],
      "text/plain": [
       "241650⋅a + 30666⋅b + 4050⋅c + 570⋅d + 90⋅e + 18.0"
      ]
     },
     "metadata": {},
     "output_type": "display_data"
    },
    {
     "data": {
      "text/latex": [
       "$\\displaystyle \\sum_{k=0}^{9} \\left(2 a {x}_{k}^{4} + 2 b {x}_{k}^{3} + 2 c {x}_{k}^{2} + 2 d {x}_{k} + 2 e - 2 {y}_{k}\\right)$"
      ],
      "text/plain": [
       "  9                                                                \n",
       " ___                                                               \n",
       " ╲                                                                 \n",
       "  ╲   ⎛        4           3           2                          ⎞\n",
       "  ╱   ⎝2⋅a⋅x[k]  + 2⋅b⋅x[k]  + 2⋅c⋅x[k]  + 2⋅d⋅x[k] + 2⋅e - 2⋅y[k]⎠\n",
       " ╱                                                                 \n",
       " ‾‾‾                                                               \n",
       "k = 0                                                              "
      ]
     },
     "metadata": {},
     "output_type": "display_data"
    },
    {
     "data": {
      "text/latex": [
       "$\\displaystyle 30666 a + 4050 b + 570 c + 90 d + 20 e + 1.2$"
      ],
      "text/plain": [
       "30666⋅a + 4050⋅b + 570⋅c + 90⋅d + 20⋅e + 1.2"
      ]
     },
     "metadata": {},
     "output_type": "display_data"
    },
    {
     "name": "stdout",
     "output_type": "stream",
     "text": [
      "{a: -0.0307109557109557, b: 0.575174825174825, c: -3.17587412587413, d: 4.43094405594406, e: 1.12937062937063}\n"
     ]
    },
    {
     "data": {
      "text/latex": [
       "$\\displaystyle - 0.0307109557109557 x^{4} + 0.575174825174825 x^{3} - 3.17587412587413 x^{2} + 4.43094405594406 x + 1.12937062937063$"
      ],
      "text/plain": [
       "                      4                      3                     2          \n",
       "- 0.0307109557109557⋅x  + 0.575174825174825⋅x  - 3.17587412587413⋅x  + 4.43094\n",
       "\n",
       "                              \n",
       "405594406⋅x + 1.12937062937063"
      ]
     },
     "metadata": {},
     "output_type": "display_data"
    },
    {
     "data": {
      "image/png": "[encoded data removed]",
      "text/plain": [
       "<Figure size 432x288 with 1 Axes>"
      ]
     },
     "metadata": {},
     "output_type": "display_data"
    }
   ],
   "source": [
    "# Clear defined variables\n",
    "%reset -f\n",
    "\n",
    "# Clear defined variables\n",
    "from IPython.display import display, Latex\n",
    "from sympy import *\n",
    "from sympy.plotting import plot\n",
    "init_printing(use_latex='mathjax')\n",
    "\n",
    "import matplotlib.pyplot as plt\n",
    "plt.style.use('seaborn-whitegrid')\n",
    "import numpy as np\n",
    "\n",
    "# Symbols used\n",
    "x, y, a, b, c, d, e, n, k = symbols('x y a b c d e n k')\n",
    "\n",
    "# Data points\n",
    "x_points = [0,1, 2, 3, 4,5,6,7,8,9]\n",
    "y_points = [0.5, 4.5, 1, -2, -4, -2, -1.5, -0.3, 1.2, 2.0]\n",
    "\n",
    "# Model to use\n",
    "model = a*Indexed(x, k)**4 + b*Indexed(x, k)**3 + c*Indexed(x, k)**2 + d*Indexed(x, k) + e\n",
    "\n",
    "\n",
    "f = lambdify((x, a, b, c, d, e), model)\n",
    "display(model)\n",
    "\n",
    "E = Sum((model-Indexed(y,k))**2,(k,0,len(x_points) -1))\n",
    "f_E = lambdify((x, y, a, b, c, d, e), E)\n",
    "display(E)\n",
    "\n",
    "eqA = E.diff(a)\n",
    "display(eqA)\n",
    "f_A = lambdify((x, y, a, b, c, d, e), eqA)\n",
    "list_y_A = f_A(x_points, y_points, a, b, c, d, e)\n",
    "display(list_y_A)\n",
    "\n",
    "eqB = E.diff(b)\n",
    "display(eqB)\n",
    "f_B = lambdify((x, y, a, b, c, d, e), eqB)\n",
    "list_y_B = f_B(x_points, y_points, a, b, c, d, e)\n",
    "display(list_y_B)\n",
    "\n",
    "eqC = E.diff(c)\n",
    "display(eqC)\n",
    "f_C = lambdify((x, y, a, b, c, d, e), eqC)\n",
    "list_y_C = f_C(x_points, y_points, a, b, c, d, e)\n",
    "display(list_y_C)\n",
    "\n",
    "eqD = E.diff(d)\n",
    "display(eqD)\n",
    "f_D = lambdify((x, y, a, b, c, d, e), eqD)\n",
    "list_y_D = f_D(x_points, y_points, a, b, c, d, e)\n",
    "display(list_y_D)\n",
    "\n",
    "eqE = E.diff(e)\n",
    "display(eqE)\n",
    "f_E = lambdify((x, y, a, b, c, d, e), eqE)\n",
    "list_y_E = f_E(x_points, y_points, a, b, c, d, e)\n",
    "display(list_y_E)\n",
    "\n",
    "# Solving equations\n",
    "solved = solve((list_y_A, list_y_B, list_y_C, list_y_D, list_y_E), (a, b, c, d, e))\n",
    "print(solved)\n",
    "\n",
    "# Assigning values to symbols\n",
    "a = solved[a]\n",
    "b = solved[b]\n",
    "c = solved[c]\n",
    "d = solved[d]\n",
    "e = solved[e]\n",
    "\n",
    "# Generating points for model plot\n",
    "x_list = np.linspace(-1, 10, 1000)\n",
    "unindexed_model = a*x**4 + b*x**3 + c*x**2 + d*x**1 + e*x**0\n",
    "y_generator = lambdify((x), unindexed_model)\n",
    "\n",
    "display(unindexed_model)\n",
    "y_list = y_generator(x_list)\n",
    "\n",
    "# Setup figure\n",
    "fig=plt.figure()\n",
    "ax=fig.add_axes([0,0,1,1])\n",
    "# fig = ax.set_xlim((-1,6))\n",
    "# fig = ax.set_ylim((-5,10))\n",
    "# Display figure\n",
    "fig = ax.scatter(x_points, y_points, color='black');\n",
    "fig = ax.plot(x_list, y_list)\n",
    "# plt.close() # Don't display\n",
    "plt.show()"
   ]
  },
  {
   "cell_type": "markdown",
   "metadata": {},
   "source": [
    "# General\n"
   ]
  },
  {
   "cell_type": "code",
   "execution_count": 5,
   "metadata": {
    "scrolled": true
   },
   "outputs": [
    {
     "name": "stdout",
     "output_type": "stream",
     "text": [
      "Model to fit:\n"
     ]
    },
    {
     "data": {
      "text/latex": [
       "$\\displaystyle \\sin{\\left({x}_{k} \\right)} {v}_{1} + \\cos{\\left({x}_{k} \\right)} {v}_{2}$"
      ],
      "text/plain": [
       "sin(x[k])⋅v[1] + cos(x[k])⋅v[2]"
      ]
     },
     "metadata": {},
     "output_type": "display_data"
    },
    {
     "name": "stdout",
     "output_type": "stream",
     "text": [
      "Equation to minimize:\n"
     ]
    },
    {
     "data": {
      "text/latex": [
       "$\\displaystyle \\sum_{k=0}^{9} \\left(\\sin{\\left({x}_{k} \\right)} {v}_{1} + \\cos{\\left({x}_{k} \\right)} {v}_{2} - {y}_{k}\\right)^{2}$"
      ],
      "text/plain": [
       "  9                                            \n",
       " ___                                           \n",
       " ╲                                             \n",
       "  ╲                                           2\n",
       "  ╱   (sin(x[k])⋅v[1] + cos(x[k])⋅v[2] - y[k]) \n",
       " ╱                                             \n",
       " ‾‾‾                                           \n",
       "k = 0                                          "
      ]
     },
     "metadata": {},
     "output_type": "display_data"
    },
    {
     "name": "stdout",
     "output_type": "stream",
     "text": [
      "Free variables to solve for:\n"
     ]
    },
    {
     "data": {
      "text/latex": [
       "$\\displaystyle \\left[ {v}_{1}, \\  {v}_{2}\\right]$"
      ],
      "text/plain": [
       "[v[1], v[2]]"
      ]
     },
     "metadata": {},
     "output_type": "display_data"
    },
    {
     "name": "stdout",
     "output_type": "stream",
     "text": [
      "Solving for: \n"
     ]
    },
    {
     "data": {
      "text/latex": [
       "$\\displaystyle {v}_{1}$"
      ],
      "text/plain": [
       "v[1]"
      ]
     },
     "metadata": {},
     "output_type": "display_data"
    },
    {
     "data": {
      "text/latex": [
       "$\\displaystyle \\sum_{k=0}^{9} 2 \\left(\\sin{\\left({x}_{k} \\right)} {v}_{1} + \\cos{\\left({x}_{k} \\right)} {v}_{2} - {y}_{k}\\right) \\sin{\\left({x}_{k} \\right)}$"
      ],
      "text/plain": [
       "  9                                                       \n",
       " ___                                                      \n",
       " ╲                                                        \n",
       "  ╲   2⋅(sin(x[k])⋅v[1] + cos(x[k])⋅v[2] - y[k])⋅sin(x[k])\n",
       "  ╱                                                       \n",
       " ╱                                                        \n",
       " ‾‾‾                                                      \n",
       "k = 0                                                     "
      ]
     },
     "metadata": {},
     "output_type": "display_data"
    },
    {
     "data": {
      "text/latex": [
       "$\\displaystyle 9.41094332878443 {v}_{1} - 0.266439556689467 {v}_{2} - 21.2666104647013$"
      ],
      "text/plain": [
       "9.41094332878443⋅v[1] - 0.266439556689467⋅v[2] - 21.2666104647013"
      ]
     },
     "metadata": {},
     "output_type": "display_data"
    },
    {
     "name": "stdout",
     "output_type": "stream",
     "text": [
      "Solving for: \n"
     ]
    },
    {
     "data": {
      "text/latex": [
       "$\\displaystyle {v}_{2}$"
      ],
      "text/plain": [
       "v[2]"
      ]
     },
     "metadata": {},
     "output_type": "display_data"
    },
    {
     "data": {
      "text/latex": [
       "$\\displaystyle \\sum_{k=0}^{9} 2 \\left(\\sin{\\left({x}_{k} \\right)} {v}_{1} + \\cos{\\left({x}_{k} \\right)} {v}_{2} - {y}_{k}\\right) \\cos{\\left({x}_{k} \\right)}$"
      ],
      "text/plain": [
       "  9                                                       \n",
       " ___                                                      \n",
       " ╲                                                        \n",
       "  ╲   2⋅(sin(x[k])⋅v[1] + cos(x[k])⋅v[2] - y[k])⋅cos(x[k])\n",
       "  ╱                                                       \n",
       " ╱                                                        \n",
       " ‾‾‾                                                      \n",
       "k = 0                                                     "
      ]
     },
     "metadata": {},
     "output_type": "display_data"
    },
    {
     "data": {
      "text/latex": [
       "$\\displaystyle - 0.266439556689467 {v}_{1} + 10.5890566712156 {v}_{2} - 6.32564832086674$"
      ],
      "text/plain": [
       "-0.266439556689467⋅v[1] + 10.5890566712156⋅v[2] - 6.32564832086674"
      ]
     },
     "metadata": {},
     "output_type": "display_data"
    },
    {
     "name": "stdout",
     "output_type": "stream",
     "text": [
      "solved_eqs:\n"
     ]
    },
    {
     "data": {
      "text/latex": [
       "$\\displaystyle \\left[ 9.41094332878443 {v}_{1} - 0.266439556689467 {v}_{2} - 21.2666104647013, \\  - 0.266439556689467 {v}_{1} + 10.5890566712156 {v}_{2} - 6.32564832086674\\right]$"
      ],
      "text/plain": [
       "[9.41094332878443⋅v[1] - 0.266439556689467⋅v[2] - 21.2666104647013, -0.2664395\n",
       "56689467⋅v[1] + 10.5890566712156⋅v[2] - 6.32564832086674]"
      ]
     },
     "metadata": {},
     "output_type": "display_data"
    },
    {
     "data": {
      "text/latex": [
       "$\\displaystyle \\left\\{ {v}_{1} : 2.27831029472824, \\  {v}_{2} : 0.654702351781759\\right\\}$"
      ],
      "text/plain": [
       "{v[1]: 2.27831029472824, v[2]: 0.654702351781759}"
      ]
     },
     "metadata": {},
     "output_type": "display_data"
    },
    {
     "data": {
      "text/latex": [
       "$\\displaystyle 2.27831029472824 \\sin{\\left(x \\right)} + 0.654702351781759 \\cos{\\left(x \\right)}$"
      ],
      "text/plain": [
       "2.27831029472824⋅sin(x) + 0.654702351781759⋅cos(x)"
      ]
     },
     "metadata": {},
     "output_type": "display_data"
    },
    {
     "data": {
      "image/png": "[encoded data removed]",
      "text/plain": [
       "<Figure size 432x288 with 1 Axes>"
      ]
     },
     "metadata": {},
     "output_type": "display_data"
    }
   ],
   "source": [
    "# Clear defined variables\n",
    "%reset -f\n",
    "# Clear defined variables\n",
    "from IPython.display import display, Latex, Markdown\n",
    "import sympy as sym\n",
    "from sympy.plotting import plot\n",
    "sym.init_printing(use_latex='mathjax')\n",
    "import math as Math\n",
    "import matplotlib.pyplot as plt\n",
    "plt.style.use('seaborn-whitegrid')\n",
    "import numpy as np\n",
    "\n",
    "# Symbols used\n",
    "j, k, n, v, x, y = sym.symbols('j k n v x y')\n",
    "\n",
    "# Data points\n",
    "x_points = [0,1, 2, 3, 4,5,6,7,8,9]\n",
    "y_points = [0.5, 4.5, 1, -2, -4, -1, -1.5, -0.3, 1.2, 2.0]\n",
    "\n",
    "# Model to use\n",
    "num_free_vars = 2\n",
    "model = sym.Indexed(v, 1) * sym.sin(sym.Indexed(x, k)) + sym.Indexed(v,2) * sym.cos(sym.Indexed(x, k))\n",
    "# model = Indexed(v, 5)*Indexed(x, k)**4 + Indexed(v, 4)*Indexed(x, k)**3 + Indexed(v, 3)*Indexed(x, k)**2 + Indexed(v, 2)*Indexed(x, k)**1 + Indexed(v, 1)*Indexed(x, k)**0\n",
    "print(\"Model to fit:\")\n",
    "display(model)\n",
    "\n",
    "# To be minimized\n",
    "E = sym.Sum((model-sym.Indexed(y,k))**2,(k,0,len(x_points) -1))\n",
    "print(\"Equation to minimize:\")\n",
    "display(E)\n",
    "\n",
    "# List of variables to solve for\n",
    "free_variables = [sym.Indexed(v, n) for n in range(1, num_free_vars + 1)]\n",
    "print(\"Free variables to solve for:\")\n",
    "display(free_variables)\n",
    "\n",
    "solved_eqs = []\n",
    "for var_num in range(1, num_free_vars + 1):    \n",
    "    print(\"Solving for: \")\n",
    "    display(sym.Indexed(v, var_num))\n",
    "    eq = E.diff(sym.Indexed(v, var_num))\n",
    "    display(eq)\n",
    "    f = sym.lambdify((x, y, *free_variables), eq)\n",
    "    solved_eq = f(x_points, y_points, *free_variables)\n",
    "    display(solved_eq)\n",
    "    solved_eqs.append(solved_eq)\n",
    "\n",
    "print(\"solved_eqs:\")\n",
    "display(solved_eqs)\n",
    "\n",
    "# Solve n equations with n unknowns\n",
    "solved = sym.solve((solved_eqs), (free_variables))\n",
    "display(solved)\n",
    "    \n",
    "# Create list of evenly distibuted x-points\n",
    "x_list = np.linspace(np.min(x_points) - 1, np.max(x_points) + 1, 10000)\n",
    "\n",
    "unindexed_model = solved[sym.Indexed(v, 1)] * sym.sin(x) + solved[sym.Indexed(v,2)] * sym.cos(x)\n",
    "# unindexed_model = solved[Indexed(v, 5)]*x**4 + solved[Indexed(v, 4)]*x**3 + solved[Indexed(v, 3)]*x**2 + solved[Indexed(v, 2)]*x**1 + solved[Indexed(v, 1)]*x**0\n",
    "display(unindexed_model)\n",
    "\n",
    "# Generate y-coords for each x-coord\n",
    "y_generator = sym.lambdify((x), unindexed_model)\n",
    "y_list = y_generator(x_list)\n",
    "\n",
    "# Setup figure\n",
    "fig=plt.figure()\n",
    "ax=fig.add_axes([0,0,1,1])\n",
    "fig = ax.set_xlim((np.min(x_points) - 2, np.max(x_points) + 2))\n",
    "fig = ax.set_ylim((np.min(y_points) - 2, np.max(y_points) + 2))\n",
    "# Display figure\n",
    "fig = ax.scatter(x_points, y_points, color='black');\n",
    "fig = ax.plot(x_list, y_list)\n",
    "# plt.close() # Don't display\n",
    "# plt.show()"
   ]
  },
  {
   "cell_type": "code",
   "execution_count": null,
   "metadata": {},
   "outputs": [
    {
     "name": "stdout",
     "output_type": "stream",
     "text": [
      "Before load\n",
      "[[7.28097000e-04 3.35607949e-04]\n",
      " [3.06628100e-03 5.23935598e-04]\n",
      " [4.20771300e-03 2.64951743e-04]\n",
      " ...\n",
      " [4.15633823e+00 4.71341183e-04]\n",
      " [4.15721265e+00 2.64666683e-04]\n",
      " [4.15976329e+00 3.78546144e-04]]\n"
     ]
    },
    {
     "data": {
      "image/png": "[encoded data removed]",
      "text/plain": [
       "<Figure size 1440x720 with 1 Axes>"
      ]
     },
     "metadata": {},
     "output_type": "display_data"
    },
    {
     "data": {
      "text/latex": [
       "$\\displaystyle {v}_{10} {x}_{k}^{7} + {v}_{11} {x}_{k}^{6} + {v}_{12} {x}_{k}^{5} + {v}_{13} {x}_{k}^{4} + {v}_{14} {x}_{k}^{3} + {v}_{15} {x}_{k}^{2} + {v}_{16} {x}_{k} + {v}_{17} + {v}_{1} {x}_{k}^{16} + {v}_{2} {x}_{k}^{15} + {v}_{3} {x}_{k}^{14} + {v}_{4} {x}_{k}^{13} + {v}_{5} {x}_{k}^{12} + {v}_{6} {x}_{k}^{11} + {v}_{7} {x}_{k}^{10} + {v}_{8} {x}_{k}^{9} + {v}_{9} {x}_{k}^{8}$"
      ],
      "text/plain": [
       "          7             6             5             4             3           \n",
       "v[10]⋅x[k]  + v[11]⋅x[k]  + v[12]⋅x[k]  + v[13]⋅x[k]  + v[14]⋅x[k]  + v[15]⋅x[\n",
       "\n",
       "  2                                 16            15            14            \n",
       "k]  + v[16]⋅x[k] + v[17] + v[1]⋅x[k]   + v[2]⋅x[k]   + v[3]⋅x[k]   + v[4]⋅x[k]\n",
       "\n",
       "13            12            11            10            9            8\n",
       "   + v[5]⋅x[k]   + v[6]⋅x[k]   + v[7]⋅x[k]   + v[8]⋅x[k]  + v[9]⋅x[k] "
      ]
     },
     "metadata": {},
     "output_type": "display_data"
    },
    {
     "name": "stdout",
     "output_type": "stream",
     "text": [
      "1\n",
      "2\n",
      "3\n",
      "4\n",
      "5\n",
      "6\n",
      "7\n",
      "8\n",
      "9\n",
      "10\n",
      "11\n",
      "12\n",
      "13\n",
      "14\n",
      "15\n",
      "16\n",
      "17\n"
     ]
    },
    {
     "data": {
      "text/plain": [
       "'Solving...'"
      ]
     },
     "metadata": {},
     "output_type": "display_data"
    },
    {
     "data": {
      "text/plain": [
       "'Solved'"
      ]
     },
     "metadata": {},
     "output_type": "display_data"
    },
    {
     "data": {
      "image/png": "[encoded data removed]",
      "text/plain": [
       "<Figure size 1440x720 with 1 Axes>"
      ]
     },
     "metadata": {},
     "output_type": "display_data"
    },
    {
     "data": {
      "text/latex": [
       "$\\displaystyle 0.0018628396993972901$"
      ],
      "text/plain": [
       "0.0018628396993972901"
      ]
     },
     "metadata": {},
     "output_type": "display_data"
    },
    {
     "data": {
      "text/latex": [
       "$\\displaystyle {v}_{10} {x}_{k}^{8} + {v}_{11} {x}_{k}^{7} + {v}_{12} {x}_{k}^{6} + {v}_{13} {x}_{k}^{5} + {v}_{14} {x}_{k}^{4} + {v}_{15} {x}_{k}^{3} + {v}_{16} {x}_{k}^{2} + {v}_{17} {x}_{k} + {v}_{18} + {v}_{1} {x}_{k}^{17} + {v}_{2} {x}_{k}^{16} + {v}_{3} {x}_{k}^{15} + {v}_{4} {x}_{k}^{14} + {v}_{5} {x}_{k}^{13} + {v}_{6} {x}_{k}^{12} + {v}_{7} {x}_{k}^{11} + {v}_{8} {x}_{k}^{10} + {v}_{9} {x}_{k}^{9}$"
      ],
      "text/plain": [
       "          8             7             6             5             4           \n",
       "v[10]⋅x[k]  + v[11]⋅x[k]  + v[12]⋅x[k]  + v[13]⋅x[k]  + v[14]⋅x[k]  + v[15]⋅x[\n",
       "\n",
       "  3             2                                 17            16            \n",
       "k]  + v[16]⋅x[k]  + v[17]⋅x[k] + v[18] + v[1]⋅x[k]   + v[2]⋅x[k]   + v[3]⋅x[k]\n",
       "\n",
       "15            14            13            12            11            10      \n",
       "   + v[4]⋅x[k]   + v[5]⋅x[k]   + v[6]⋅x[k]   + v[7]⋅x[k]   + v[8]⋅x[k]   + v[9\n",
       "\n",
       "      9\n",
       "]⋅x[k] "
      ]
     },
     "metadata": {},
     "output_type": "display_data"
    },
    {
     "name": "stdout",
     "output_type": "stream",
     "text": [
      "1\n",
      "2\n",
      "3\n",
      "4\n",
      "5\n",
      "6\n",
      "7\n",
      "8\n",
      "9\n",
      "10\n",
      "11\n",
      "12\n",
      "13\n",
      "14\n",
      "15\n",
      "16\n",
      "17\n",
      "18\n"
     ]
    },
    {
     "data": {
      "text/plain": [
       "'Solving...'"
      ]
     },
     "metadata": {},
     "output_type": "display_data"
    }
   ],
   "source": [
    "# Clear defined variables\n",
    "%reset -f\n",
    "# %matplotlib tk\n",
    "# Clear defined variables\n",
    "from IPython.display import display, Latex, Markdown\n",
    "import sympy as sym\n",
    "from sympy.plotting import plot\n",
    "sym.init_printing(use_latex='mathjax')\n",
    "import math as Math\n",
    "import matplotlib.pyplot as plt\n",
    "plt.style.use('seaborn-whitegrid')\n",
    "import numpy as np\n",
    "import random\n",
    "import re\n",
    "\n",
    "plt.rcParams[\"figure.figsize\"] = (20, 10)\n",
    "# Symbols used\n",
    "j, k, n, v, x, y, a = sym.symbols('j k n v x y a')\n",
    "\n",
    "should_display = {\"all\": False, \"math\": False, \"debug\": False, \"text\": False, \"diagram\": True, \"R2\": True, \"status\": True}\n",
    "def to_display(to_display, display_type):\n",
    "    if should_display[\"all\"]:\n",
    "        display(to_display)\n",
    "    elif should_display[\"math\"] and display_type == \"math\":\n",
    "        display(to_display)\n",
    "    elif should_display[\"debug\"] and display_type == \"debug\":\n",
    "        display(to_display)\n",
    "    elif should_display[\"text\"] and display_type == \"text\":\n",
    "        display(to_display)\n",
    "    elif should_display[\"R2\"] and display_type == \"R2\":\n",
    "        display(to_display)\n",
    "    elif should_display[\"status\"] and display_type == \"status\":\n",
    "        display(to_display)\n",
    "        \n",
    "def calc_R2(model, x_points, y_points):    \n",
    "    # model.replace(\"x\", \"sym.Indexed(x, k)\")\n",
    "    model = model.subs(x, sym.Indexed(x, k))\n",
    "    # display(1/len(x_points))\n",
    "    R2_model = sym.sqrt(1/len(x_points)*sym.Sum(((model) - sym.Indexed(y, k))**2,(k,0,len(x_points) -1)))\n",
    "    # display(R2_model)\n",
    "    f_R2 = sym.lambdify((x, y), R2_model)\n",
    "    return f_R2(x_points, y_points)\n",
    "        \n",
    "\n",
    "def fit_model(str_model, x_points, y_points):\n",
    "    still_searching = True\n",
    "    model = str_model.replace('x', 'sym.Indexed(x, k)')\n",
    "    free_vars = []\n",
    "    free_vars_indices = []\n",
    "    while still_searching:\n",
    "        match = re.search(r\"v_\\d+\", model)\n",
    "        if not match:\n",
    "            still_searching = False\n",
    "            continue\n",
    "        matching_text = match.group()\n",
    "        var_num = re.search(r\"\\d+\", matching_text).group()\n",
    "        model = model[:match.span()[0]] + \"sym.Indexed(v,\" + str(var_num) + \")\" + model[match.span()[1]:]\n",
    "        free_vars.append(eval(\"sym.Indexed(v,\" + str(var_num) + \")\"))\n",
    "        free_vars_indices.append(int(var_num))\n",
    "    # print(model)\n",
    "\n",
    "    model = eval(model)\n",
    "    # Symbols used\n",
    "    j, k, n, v, x, y, a = sym.symbols('j k n v x y, a')\n",
    "\n",
    "    # Model to use\n",
    "    num_free_vars = len(free_vars)\n",
    "    # model = sym.Indexed(v, 1) * sym.sin(sym.Indexed(x, k)) + sym.Indexed(v,2) * sym.cos(sym.Indexed(x, k))\n",
    "    # model = Indexed(v, 5)*Indexed(x, k)**4 + Indexed(v, 4)*Indexed(x, k)**3 + Indexed(v, 3)*Indexed(x, k)**2 + Indexed(v, 2)*Indexed(x, k)**1 + Indexed(v, 1)*Indexed(x, k)**0\n",
    "    to_display(\"Model to fit:\", \"text\")\n",
    "    to_display(model, \"status\")\n",
    "\n",
    "    # To be minimized\n",
    "    E = sym.Sum((model-sym.Indexed(y,k))**2,(k,0,len(x_points) -1))\n",
    "    to_display(\"Equation to minimize:\", \"text\")\n",
    "    to_display(E, \"math\")\n",
    "\n",
    "    # List of variables to solve for\n",
    "    to_display(\"Free variables to solve for:\", \"text\")\n",
    "    to_display(free_vars, \"math\")\n",
    "\n",
    "    solved_eqs = []\n",
    "    to_display(\"Starting now\", \"debug\")\n",
    "    for var_num in free_vars_indices:    \n",
    "        print(var_num)\n",
    "        to_display(sym.Indexed(v, var_num), \"debug\")\n",
    "        to_display(\"Solving for: \", \"text\")\n",
    "        to_display(sym.Indexed(v, var_num), \"math\")\n",
    "        eq = E.diff(sym.Indexed(v, var_num))\n",
    "        to_display(eq, \"math\")\n",
    "        f = sym.lambdify((x, y, *free_vars), eq)\n",
    "        solved_eq = f(x_points, y_points, *free_vars)\n",
    "        to_display(solved_eq, \"math\")\n",
    "        solved_eqs.append(solved_eq)\n",
    "        \n",
    "    to_display(\"Solving...\", \"status\")\n",
    "    # Solve n equations with n unknowns\n",
    "    solved = sym.solve((solved_eqs), (free_vars))\n",
    "    to_display(\"Solved\", \"status\")\n",
    "    # Create list of evenly distibuted x-points\n",
    "    x_list = np.linspace(np.min(x_points) - 1, np.max(x_points) + 1, 10000)\n",
    "    # solved_model = solved[sym.Indexed(v, 1)] * sym.sin(x) + solved[sym.Indexed(v,2)] * sym.cos(x)\n",
    "    still_searching = True\n",
    "    solved_model = str_model\n",
    "    while still_searching:\n",
    "        match = re.search(r\"v_\\d+\", solved_model)\n",
    "        if not match:\n",
    "            still_searching = False\n",
    "            continue\n",
    "        matching_text = match.group()\n",
    "        var_num = pattern = r\"\\d+\"\n",
    "        var_num = re.search(r\"\\d+\", matching_text).group()\n",
    "        if not sym.Indexed(v, var_num) in solved:\n",
    "            print(\"excluding {}\".format(var_num))\n",
    "            solved_model = solved_model[:match.span()[0]] + \"0\" + solved_model[match.span()[1]:]\n",
    "            continue\n",
    "        solved_model = solved_model[:match.span()[0]] + \"solved[sym.Indexed(v,\" + str(var_num) + \")]\" + solved_model[match.span()[1]:]\n",
    "\n",
    "    solved_model_eval = eval(solved_model)\n",
    "    to_display(\"Solved model evaluated:\", \"text\")\n",
    "    to_display(solved_model_eval, \"math\")\n",
    "    # Generate y-coords for each x-coord\n",
    "    y_generator = sym.lambdify((x), solved_model_eval)\n",
    "    y_list = y_generator(x_list)\n",
    "\n",
    "    # Setup figure\n",
    "    fig=plt.figure()\n",
    "    ax=fig.add_axes([0,0,1,1])\n",
    "    fig = ax.set_xlim((np.min(x_points) - 0.02, np.max(x_points) + 0.02))\n",
    "    fig = ax.set_ylim((np.min(y_points) - 0.02, np.max(y_points) + 0.02))\n",
    "    # Display figure\n",
    "    fig = ax.scatter(x_points, y_points, color='black');\n",
    "    fig = ax.plot(x_list, y_list)\n",
    "    if not should_display[\"diagram\"]:\n",
    "        plt.close() # Don't display\n",
    "    plt.show()\n",
    "    # R^2\n",
    "    to_display(\"R_2:\", \"debug\")\n",
    "    to_display(calc_R2(solved_model_eval, x_points, y_points), \"R2\")\n",
    "    \n",
    "    \n",
    "    \n",
    "def n_degree_poly(n):\n",
    "    model = \"\"\n",
    "    for i in range(1, n+2):\n",
    "        model += \"+v_\" + str(i) + \"*x**\" + str(n+1-i)\n",
    "    return model\n",
    "\n",
    "# Data points\n",
    "# x_points = [0,1, 2, 3, 4,5,6,7,8,9, 10, 11]\n",
    "# y_points = [0.5, 4.5, 1, -2, -4, -1, -1.5, -0.3, 1.2, 2.0, 3.4, 5]\n",
    "x_points = np.linspace(1, 10, 10)\n",
    "y_points = []\n",
    "for i in range(0, len(x_points - 1)):\n",
    "    if i == 0:\n",
    "        y_points.append(random.random() * 20 - 10)\n",
    "        continue\n",
    "    y_points.append(y_points[i-1] + (random.random() * 20) - 10)\n",
    "\n",
    "# for i in range(0, len(x_points)):    \n",
    "#     x_points = np.append(x_points, x_points[i])\n",
    "#     y_points = np.append(y_points, y_points[i])\n",
    "    \n",
    "\n",
    "# Load data from csv\n",
    "x_points = []\n",
    "y_points = []\n",
    "print(\"Before load\")\n",
    "arr = np.genfromtxt('folded_data.csv', delimiter=',')\n",
    "for i in range(len(arr)):\n",
    "    point = arr[i]\n",
    "    if point[0] > 3.2 and point[0] < 3.55:\n",
    "        if i > 0:\n",
    "            variance = 0.0060\n",
    "            if point[1] < arr[i-1][1] + variance and point[1] > arr[i-1][1] - variance:\n",
    "                x_points.append(point[0])\n",
    "                y_points.append(point[1])\n",
    "        else:\n",
    "            x_points.append(point[0])\n",
    "            y_points.append(point[1])\n",
    "\n",
    "print(arr)\n",
    "plt.scatter(x_points, y_points)\n",
    "plt.show()\n",
    "# Model\n",
    "#n = len(x_points)-1\n",
    "n = 14\n",
    "#model = n_degree_poly(n)\n",
    "for i in range(20, 25):\n",
    "    fit_model(n_degree_poly(i), x_points, y_points)\n",
    "# fit_model(n_degree_poly(10), x_points, y_points)\n",
    "\n",
    "#fit_model(n_degree_poly(n), x_points, y_points)\n",
    "#model = \"x*v_1*sym.sin(x+1+a) + x*v_2*sym.sin(x)\"\n",
    "#fit_model(model, x_points, y_points)"
   ]
  },
  {
   "cell_type": "code",
   "execution_count": null,
   "metadata": {},
   "outputs": [],
   "source": []
  }
 ],
 "metadata": {
  "kernelspec": {
   "display_name": "Python 3",
   "language": "python",
   "name": "python3"
  },
  "language_info": {
   "codemirror_mode": {
    "name": "ipython",
    "version": 3
   },
   "file_extension": ".py",
   "mimetype": "text/x-python",
   "name": "python",
   "nbconvert_exporter": "python",
   "pygments_lexer": "ipython3",
   "version": "3.7.4"
  }
 },
 "nbformat": 4,
 "nbformat_minor": 4
}
